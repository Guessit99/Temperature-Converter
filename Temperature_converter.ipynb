{
  "nbformat": 4,
  "nbformat_minor": 0,
  "metadata": {
    "colab": {
      "provenance": [],
      "authorship_tag": "ABX9TyO9hz+8cQmJy72jJwbDnz9Y",
      "include_colab_link": true
    },
    "kernelspec": {
      "name": "python3",
      "display_name": "Python 3"
    },
    "language_info": {
      "name": "python"
    }
  },
  "cells": [
    {
      "cell_type": "markdown",
      "metadata": {
        "id": "view-in-github",
        "colab_type": "text"
      },
      "source": [
        "<a href=\"https://colab.research.google.com/github/Guessit99/Temperature-Converter/blob/main/Temperature_converter.ipynb\" target=\"_parent\"><img src=\"https://colab.research.google.com/assets/colab-badge.svg\" alt=\"Open In Colab\"/></a>"
      ]
    },
    {
      "cell_type": "code",
      "execution_count": null,
      "metadata": {
        "colab": {
          "base_uri": "https://localhost:8080/"
        },
        "id": "GG__u22IfU1c",
        "outputId": "91e3a924-8f9b-498f-f3d1-34da5e30bb24"
      },
      "outputs": [
        {
          "output_type": "stream",
          "name": "stdout",
          "text": [
            "Temperature Converter\n",
            "Enter the temperature scale (C for Celsius, F for Fahrenheit): C\n",
            "Enter the temperature value: 37\n",
            "The converted temperature is 98.60 Fahrenheit.\n"
          ]
        }
      ],
      "source": [
        "class TemperatureConverter:\n",
        "    def celsius_to_fahrenheit(self, celsius):\n",
        "        return (celsius * 9/5) + 32\n",
        "\n",
        "    def fahrenheit_to_celsius(self, fahrenheit):\n",
        "        return (fahrenheit - 32) * 5/9\n",
        "\n",
        "def get_temperature_input():\n",
        "    while True:\n",
        "        try:\n",
        "            temperature = float(input(\"Enter the temperature value: \"))\n",
        "            return temperature\n",
        "        except ValueError:\n",
        "            print(\"Invalid input. Please enter a valid number.\")\n",
        "\n",
        "def get_scale_input():\n",
        "    while True:\n",
        "        scale = input(\"Enter the temperature scale (C for Celsius, F for Fahrenheit): \").upper()\n",
        "        if scale in ('C', 'F'):\n",
        "            return scale\n",
        "        else:\n",
        "            print(\"Invalid input. Please enter 'C' for Celsius or 'F' for Fahrenheit.\")\n",
        "\n",
        "def main():\n",
        "    converter = TemperatureConverter()\n",
        "\n",
        "    print(\"Temperature Converter\")\n",
        "    source_scale = get_scale_input()\n",
        "    temperature = get_temperature_input()\n",
        "\n",
        "    if source_scale == 'C':\n",
        "        try:\n",
        "            converted_temperature = converter.celsius_to_fahrenheit(temperature)\n",
        "            target_scale = 'Fahrenheit'\n",
        "        except Exception as e:\n",
        "            print(f\"Error: {e}\")\n",
        "            return\n",
        "    else:\n",
        "        try:\n",
        "            converted_temperature = converter.fahrenheit_to_celsius(temperature)\n",
        "            target_scale = 'Celsius'\n",
        "        except Exception as e:\n",
        "            print(f\"Error: {e}\")\n",
        "            return\n",
        "\n",
        "    print(f\"The converted temperature is {converted_temperature:.2f} {target_scale}.\")\n",
        "\n",
        "if __name__ == \"__main__\":\n",
        "    main()\n"
      ]
    }
  ]
}